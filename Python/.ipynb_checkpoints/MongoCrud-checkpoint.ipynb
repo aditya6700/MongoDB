{
 "cells": [
  {
   "cell_type": "code",
   "execution_count": null,
   "metadata": {},
   "outputs": [],
   "source": [
    "# importing libraries\n",
    "\n",
    "from pymongo import MongoClient\n",
    "from bson.json_util import dumps"
   ]
  },
  {
   "cell_type": "code",
   "execution_count": null,
   "metadata": {},
   "outputs": [],
   "source": [
    "#  connection initialisation\n",
    "\n",
    "try:\n",
    "    client = MongoClient();    # all parameters are set to default\n",
    "    # client = MongoClient(\"mongodb://localhost:27017/\")  # if you want to use specific address\n",
    "    print(\"connection successful\")\n",
    "except Exception as e:\n",
    "    print(\"connection failed \\n\",e)"
   ]
  },
  {
   "cell_type": "code",
   "execution_count": null,
   "metadata": {},
   "outputs": [],
   "source": [
    "#  check wheather database exists or not\n",
    "\n",
    "list_of_db = client.list_database_names() \n",
    "  \n",
    "if \"pythonTest\" in list_of_db: \n",
    "    print(\"Exists !!\") \n"
   ]
  },
  {
   "cell_type": "code",
   "execution_count": null,
   "metadata": {},
   "outputs": [],
   "source": [
    "#  creating/switching to the database\n",
    "\n",
    "db = client.pythonTest"
   ]
  },
  {
   "cell_type": "code",
   "execution_count": null,
   "metadata": {},
   "outputs": [],
   "source": [
    "#  checking if colleciton exists\n",
    "\n",
    "collist = db.list_collection_names()\n",
    "if \"docs\" in collist:\n",
    "  print(\"Collection exists.\")"
   ]
  },
  {
   "cell_type": "code",
   "execution_count": null,
   "metadata": {},
   "outputs": [],
   "source": [
    "# adding data to the collection\n",
    "\n",
    "doc1 = {\n",
    "    \"name\": \"Sai\",\n",
    "    \"course\": \"MongoDB\",\n",
    "    \"age\": 20,\n",
    "    \"active\": True\n",
    "}\n",
    "\n",
    "inpDoc = db.docs.insert_one(doc1)\n",
    "print(\"document inserted succesfully\")"
   ]
  },
  {
   "cell_type": "code",
   "execution_count": null,
   "metadata": {},
   "outputs": [],
   "source": [
    "# adding multiple documents to the collection\n",
    "\n",
    "doc2 = [\n",
    "        {\n",
    "            \"name\": \"Srikanth\",\n",
    "            \"email\": \"srikanth@gmail.com\",\n",
    "            \"phone\": 9640424830,\n",
    "            \"address\": \"Miyapur\"\n",
    "        },\n",
    "        {\n",
    "   \n",
    "            \"name\": \"Sai Mounika\",\n",
    "            \"email\": \"saimounikachintalapudi@gmial.com\",\n",
    "            \"phone\": 9908749642,\n",
    "            \"address\": \"Khammam\" \n",
    "        },\n",
    "        {\n",
    "            \n",
    "            \"name\": \"Sandhya\",\n",
    "            \"email\": \"sandhya@gmail.com\",\n",
    "            \"phone\": 8555806135,\n",
    "            \"address\": \"Ghatkesar\" \n",
    "        } \n",
    "]\n",
    "inpDoc2 = db.docs.insert_many(doc2)\n",
    "print(\"multiple documents inserted succesfully\")"
   ]
  },
  {
   "cell_type": "code",
   "execution_count": null,
   "metadata": {},
   "outputs": [],
   "source": [
    "# reading documents form collection\n",
    "\n",
    "readDoc1 = db.docs.find()\n",
    "readDoc =  dumps(list(readDoc1),indent=2)\n",
    "print(readDoc)"
   ]
  },
  {
   "cell_type": "code",
   "execution_count": null,
   "metadata": {},
   "outputs": [],
   "source": [
    "# sorting ascending order\n",
    "sortDb1 = db.docs.find().sort(\"name\",1)\n",
    "sortDb = dumps(list(sortDb1),indent = 2)\n",
    "print(sortDb)"
   ]
  },
  {
   "cell_type": "code",
   "execution_count": null,
   "metadata": {},
   "outputs": [],
   "source": [
    "# sorting descending order\n",
    "sortDb1 = db.docs.find().sort(\"name\",-1)\n",
    "sortDb = dumps(list(sortDb1),indent = 2)\n",
    "print(sortDb)"
   ]
  },
  {
   "cell_type": "code",
   "execution_count": null,
   "metadata": {},
   "outputs": [],
   "source": [
    "#  updating values\n",
    "from pymongo import ReturnDocument \n",
    "\n",
    "updateDb1 = db.docs.find_one_and_update(\n",
    "    {\"name\":\"Sai\"},\n",
    "    {\"$set\": {\"name\":\"Sandhya\"}}, \n",
    "    projection = { \"name\" : 1, \"Branch\" : 1 }, \n",
    "    return_document = ReturnDocument.AFTER\n",
    "    )\n",
    "\n",
    "print(updateDb1)"
   ]
  },
  {
   "cell_type": "code",
   "execution_count": null,
   "metadata": {},
   "outputs": [],
   "source": [
    "# deleting one document\n",
    "\n",
    "delDoc = db.docs.delete_one({\"name\":\"Sai\"})"
   ]
  },
  {
   "cell_type": "code",
   "execution_count": null,
   "metadata": {},
   "outputs": [],
   "source": [
    "# delete multiple documents\n",
    "\n",
    "delDoc2 = db.docs.delete_many({\"age\": {\"$gt\" : 20 }})\n",
    "print(delDoc2.deleted_count)"
   ]
  },
  {
   "cell_type": "code",
   "execution_count": null,
   "metadata": {},
   "outputs": [],
   "source": [
    "# Remove All Documents \n",
    "\n",
    "# result= my_collection.delete_many({})\n",
    "# or\n",
    "result = db.docs.remove() "
   ]
  },
  {
   "cell_type": "code",
   "execution_count": null,
   "metadata": {},
   "outputs": [],
   "source": [
    "# To Drop a Collection :\n",
    "\n",
    "db.docs.drop()"
   ]
  }
 ],
 "metadata": {
  "kernelspec": {
   "display_name": "Python 3",
   "language": "python",
   "name": "python3"
  },
  "language_info": {
   "codemirror_mode": {
    "name": "ipython",
    "version": 3
   },
   "file_extension": ".py",
   "mimetype": "text/x-python",
   "name": "python",
   "nbconvert_exporter": "python",
   "pygments_lexer": "ipython3",
   "version": "3.8.1"
  }
 },
 "nbformat": 4,
 "nbformat_minor": 2
}
