{
 "cells": [
  {
   "cell_type": "code",
   "execution_count": 2,
   "metadata": {},
   "outputs": [],
   "source": [
    "# importing libraries\n",
    "\n",
    "from pymongo import MongoClient\n",
    "from bson.json_util import dumps\n",
    "\n",
    "import datetime"
   ]
  },
  {
   "cell_type": "code",
   "execution_count": 4,
   "metadata": {},
   "outputs": [
    {
     "output_type": "stream",
     "name": "stdout",
     "text": [
      "connection successful\n"
     ]
    }
   ],
   "source": [
    "#  connection initialisation\n",
    "\n",
    "try:\n",
    "    client = MongoClient();    # all parameters are set to default\n",
    "    # client = MongoClient(\"mongodb://localhost:27017/\")  # if you want to use specific address\n",
    "    print(\"connection successful\")\n",
    "except Exception as e:\n",
    "    print(\"connection failed \\n\",e)"
   ]
  },
  {
   "cell_type": "code",
   "execution_count": 3,
   "metadata": {},
   "outputs": [
    {
     "name": "stdout",
     "output_type": "stream",
     "text": [
      "Exists !!\n"
     ]
    }
   ],
   "source": [
    "#  check wheather database exists or not\n",
    "\n",
    "list_of_db = client.list_database_names() \n",
    "  \n",
    "if \"pythonTest\" in list_of_db: \n",
    "    print(\"Exists !!\") \n"
   ]
  },
  {
   "cell_type": "code",
   "execution_count": 5,
   "metadata": {},
   "outputs": [],
   "source": [
    "#  creating/switching to the database\n",
    "\n",
    "db = client.pythonTest"
   ]
  },
  {
   "cell_type": "code",
   "execution_count": null,
   "metadata": {},
   "outputs": [],
   "source": [
    "#  checking if colleciton exists\n",
    "\n",
    "collist = db.list_collection_names()\n",
    "if \"docs\" in collist:\n",
    "  print(\"Collection exists.\")"
   ]
  },
  {
   "cell_type": "code",
   "execution_count": null,
   "metadata": {},
   "outputs": [],
   "source": [
    "# adding data to the collection\n",
    "\n",
    "doc1 = {\n",
    "    \"name\": \"Sai\",\n",
    "    \"course\": \"MongoDB\",\n",
    "    \"age\": 20,\n",
    "    \"active\": True\n",
    "}\n",
    "\n",
    "inpDoc = db.docs.insert_one(doc1)\n",
    "print(\"document inserted succesfully\")"
   ]
  },
  {
   "cell_type": "code",
   "execution_count": null,
   "metadata": {},
   "outputs": [],
   "source": [
    "# adding multiple documents to the collection\n",
    "\n",
    "doc2 = [\n",
    "        {\n",
    "            \"name\": \"Srikanth\",\n",
    "            \"email\": \"srikanth@gmail.com\",\n",
    "            \"phone\": 9640424830,\n",
    "            \"address\": \"Miyapur\"\n",
    "        },\n",
    "        {\n",
    "   \n",
    "            \"name\": \"Sai Mounika\",\n",
    "            \"email\": \"saimounikachintalapudi@gmial.com\",\n",
    "            \"phone\": 9908749642,\n",
    "            \"address\": \"Khammam\" \n",
    "        },\n",
    "        {\n",
    "            \n",
    "            \"name\": \"Sandhya\",\n",
    "            \"email\": \"sandhya@gmail.com\",\n",
    "            \"phone\": 8555806135,\n",
    "            \"address\": \"Ghatkesar\" \n",
    "        } \n",
    "]\n",
    "inpDoc2 = db.docs.insert_many(doc2)\n",
    "print(\"multiple documents inserted succesfully\")"
   ]
  },
  {
   "cell_type": "code",
   "execution_count": null,
   "metadata": {},
   "outputs": [],
   "source": [
    "# reading documents form collection\n",
    "\n",
    "readDoc1 = db.docs.find()\n",
    "readDoc =  dumps(list(readDoc1),indent=2)\n",
    "print(readDoc)"
   ]
  },
  {
   "cell_type": "code",
   "execution_count": null,
   "metadata": {},
   "outputs": [],
   "source": [
    "# sorting ascending order\n",
    "sortDb1 = db.docs.find().sort(\"name\",1)\n",
    "sortDb = dumps(list(sortDb1),indent = 2)\n",
    "print(sortDb)"
   ]
  },
  {
   "cell_type": "code",
   "execution_count": null,
   "metadata": {},
   "outputs": [],
   "source": [
    "# sorting descending order\n",
    "sortDb1 = db.docs.find().sort(\"name\",-1)\n",
    "sortDb = dumps(list(sortDb1),indent = 2)\n",
    "print(sortDb)"
   ]
  },
  {
   "cell_type": "code",
   "execution_count": null,
   "metadata": {},
   "outputs": [],
   "source": [
    "#  updating values\n",
    "from pymongo import ReturnDocument \n",
    "\n",
    "updateDb1 = db.docs.find_one_and_update(\n",
    "    {\"name\":\"Sai\"},\n",
    "    {\"$set\": {\"name\":\"Sandhya\"}}, \n",
    "    projection = { \"name\" : 1, \"Branch\" : 1 }, \n",
    "    return_document = ReturnDocument.AFTER\n",
    "    )\n",
    "\n",
    "print(updateDb1)"
   ]
  },
  {
   "cell_type": "code",
   "execution_count": null,
   "metadata": {},
   "outputs": [],
   "source": [
    "# deleting one document\n",
    "\n",
    "delDoc = db.docs.delete_one({\"name\":\"Sai\"})"
   ]
  },
  {
   "cell_type": "code",
   "execution_count": null,
   "metadata": {},
   "outputs": [],
   "source": [
    "# delete multiple documents\n",
    "\n",
    "delDoc2 = db.docs.delete_many({\"age\": {\"$gt\" : 20 }})\n",
    "print(delDoc2.deleted_count)"
   ]
  },
  {
   "cell_type": "code",
   "execution_count": null,
   "metadata": {},
   "outputs": [],
   "source": [
    "# Remove All Documents \n",
    "\n",
    "# result= my_collection.delete_many({})\n",
    "# or\n",
    "result = db.docs.remove() "
   ]
  },
  {
   "cell_type": "code",
   "execution_count": null,
   "metadata": {},
   "outputs": [],
   "source": [
    "# To Drop a Collection :\n",
    "\n",
    "db.docs.drop()"
   ]
  },
  {
   "cell_type": "code",
   "execution_count": 29,
   "metadata": {},
   "outputs": [
    {
     "output_type": "stream",
     "name": "stdout",
     "text": [
      "document inserted succesfully\n"
     ]
    }
   ],
   "source": [
    "\n",
    "pdate = datetime.datetime.now()\n",
    "doc1 = {\n",
    "    \"name\": \"Sai\",\n",
    "    \"course\": \"MongoDB\",\n",
    "    \"age\": 20,\n",
    "    \"active\": True,\n",
    "    \"date\": pdate\n",
    "}\n",
    "\n",
    "\n",
    "cole = \"room2\"\n",
    "mycole = db[cole]\n",
    "inpDoc = mycole.insert_one(doc1)\n",
    "print(\"document inserted succesfully\")"
   ]
  },
  {
   "cell_type": "code",
   "execution_count": 3,
   "metadata": {},
   "outputs": [
    {
     "output_type": "stream",
     "name": "stdout",
     "text": [
      "2020-12-24\n"
     ]
    }
   ],
   "source": [
    "\n",
    "print(datetime.date.today())"
   ]
  },
  {
   "cell_type": "code",
   "execution_count": 30,
   "metadata": {},
   "outputs": [],
   "source": [
    "db = client.nodeTest"
   ]
  },
  {
   "cell_type": "code",
   "execution_count": 35,
   "metadata": {},
   "outputs": [
    {
     "output_type": "stream",
     "name": "stdout",
     "text": [
      "document inserted succesfully\n"
     ]
    }
   ],
   "source": [
    "\n",
    "pdate = datetime.datetime.now()\n",
    "doc1 = {\n",
    "    \"name\": \"lenovo\",\n",
    "    \"course\": \"MongoDB\",\n",
    "    \"age\": 20,\n",
    "    \"active\": True,\n",
    "    \"date\": pdate\n",
    "}\n",
    "\n",
    "\n",
    "cole = \"docs\"\n",
    "mycole = db[cole]\n",
    "inpDoc = mycole.insert_one(doc1)\n",
    "print(\"document inserted succesfully\")"
   ]
  },
  {
   "cell_type": "code",
   "execution_count": 32,
   "metadata": {},
   "outputs": [
    {
     "output_type": "stream",
     "name": "stdout",
     "text": [
      "[\n  {\n    \"_id\": {\n      \"$oid\": \"5fd4549d2ac9552d88f96e6f\"\n    },\n    \"name\": \"Sai Aditya\",\n    \"course\": \"MongoDB\",\n    \"age\": 20,\n    \"active\": true,\n    \"date\": {\n      \"$date\": 1607750813065\n    },\n    \"__v\": 0\n  },\n  {\n    \"_id\": {\n      \"$oid\": \"5fd4560459f3a423e46a7c33\"\n    },\n    \"name\": \"Devulapalli\",\n    \"course\": \"NodeJS\",\n    \"age\": 23,\n    \"active\": true,\n    \"date\": {\n      \"$date\": 1607751172946\n    },\n    \"__v\": 0\n  },\n  {\n    \"_id\": {\n      \"$oid\": \"5fd4583141ff1b27d07e3392\"\n    },\n    \"name\": \"Sandhya\",\n    \"course\": \"FullStack\",\n    \"age\": 19,\n    \"active\": true,\n    \"date\": {\n      \"$date\": 1607751729658\n    },\n    \"__v\": 0\n  },\n  {\n    \"_id\": {\n      \"$oid\": \"5fd4583141ff1b27d07e3393\"\n    },\n    \"name\": \"Sai Mounika\",\n    \"course\": \"Python\",\n    \"age\": 21,\n    \"active\": true,\n    \"date\": {\n      \"$date\": 1607751729659\n    },\n    \"__v\": 0\n  },\n  {\n    \"_id\": {\n      \"$oid\": \"5fd4583141ff1b27d07e3394\"\n    },\n    \"name\": \"Sai Kiran\",\n    \"course\": \"ReactJS\",\n    \"age\": 20,\n    \"active\": true,\n    \"date\": {\n      \"$date\": 1607751729660\n    },\n    \"__v\": 0\n  },\n  {\n    \"_id\": {\n      \"$oid\": \"5fd45a92f5e7151278f1c70d\"\n    },\n    \"name\": \"Bala\",\n    \"course\": \"FullStack\",\n    \"age\": 20,\n    \"active\": true,\n    \"date\": {\n      \"$date\": 1607752338078\n    },\n    \"__v\": 0\n  },\n  {\n    \"_id\": {\n      \"$oid\": \"5fd45a92f5e7151278f1c70e\"\n    },\n    \"name\": \"Anusha\",\n    \"course\": \"Python\",\n    \"age\": 21,\n    \"active\": true,\n    \"date\": {\n      \"$date\": 1607752338079\n    },\n    \"__v\": 0\n  },\n  {\n    \"_id\": {\n      \"$oid\": \"5fd45a92f5e7151278f1c70f\"\n    },\n    \"name\": \"vedha\",\n    \"course\": \"ReactJS\",\n    \"age\": 20,\n    \"active\": true,\n    \"date\": {\n      \"$date\": 1607752338080\n    },\n    \"__v\": 0\n  },\n  {\n    \"_id\": {\n      \"$oid\": \"5fd4ae3368a39933d4549ec4\"\n    },\n    \"name\": \"Adi\",\n    \"course\": \"REACTJS\",\n    \"age\": 20,\n    \"email\": \"aditya.mas@go\",\n    \"active\": true,\n    \"date\": {\n      \"$date\": 1607773747931\n    },\n    \"__v\": 0\n  },\n  {\n    \"_id\": {\n      \"$oid\": \"5fd4aee3917d080440595789\"\n    },\n    \"name\": \"master\",\n    \"course\": \"REACTJS\",\n    \"age\": 20,\n    \"email\": \"aditya.mas@root\",\n    \"active\": true,\n    \"date\": {\n      \"$date\": 1607773923143\n    },\n    \"__v\": 0\n  },\n  {\n    \"_id\": {\n      \"$oid\": \"5fd4af341c81f22244b31093\"\n    },\n    \"name\": \"root\",\n    \"course\": \"REACTJS\",\n    \"age\": 20,\n    \"email\": \"aditya.mas@root.com\",\n    \"active\": true,\n    \"date\": {\n      \"$date\": 1607774004585\n    },\n    \"__v\": 0\n  },\n  {\n    \"_id\": {\n      \"$oid\": \"5fe4a46779df403bb4ad1d7a\"\n    },\n    \"name\": \"srikanth\",\n    \"course\": \"REACTJS\",\n    \"age\": 20,\n    \"email\": \"srikanth.mas@root.com\",\n    \"active\": true,\n    \"date\": {\n      \"$date\": 1608819815017\n    },\n    \"__v\": 0\n  },\n  {\n    \"_id\": {\n      \"$oid\": \"5fe4a58acced3bf82d6bea91\"\n    },\n    \"name\": \"Sai\",\n    \"course\": \"MongoDB\",\n    \"age\": 20,\n    \"active\": true,\n    \"date\": {\n      \"$date\": 1608839906105\n    }\n  }\n]\n"
     ]
    }
   ],
   "source": [
    "resu = db.docs.find()\n",
    "resu = dumps(list(resu),indent = 2)\n",
    "# print(type(resu[0]['date']))\n",
    "print(resu)\n"
   ]
  }
 ],
 "metadata": {
  "kernelspec": {
   "display_name": "Python 3",
   "language": "python",
   "name": "python3"
  },
  "language_info": {
   "codemirror_mode": {
    "name": "ipython",
    "version": 3
   },
   "file_extension": ".py",
   "mimetype": "text/x-python",
   "name": "python",
   "nbconvert_exporter": "python",
   "pygments_lexer": "ipython3",
   "version": "3.8.1-final"
  }
 },
 "nbformat": 4,
 "nbformat_minor": 2
}